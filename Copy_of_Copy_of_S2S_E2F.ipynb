{
  "nbformat": 4,
  "nbformat_minor": 0,
  "metadata": {
    "colab": {
      "name": "Copy of Copy of S2S_E2F.ipynb",
      "version": "0.3.2",
      "provenance": [],
      "toc_visible": true,
      "include_colab_link": true
    },
    "kernelspec": {
      "display_name": "Python 3",
      "language": "python",
      "name": "python3"
    },
    "accelerator": "GPU"
  },
  "cells": [
    {
      "cell_type": "markdown",
      "metadata": {
        "id": "view-in-github",
        "colab_type": "text"
      },
      "source": [
        "[View in Colaboratory](https://colab.research.google.com/github/misttc/MockObject/blob/master/Copy_of_Copy_of_S2S_E2F.ipynb)"
      ]
    },
    {
      "metadata": {
        "id": "F8lXM7scQdwW",
        "colab_type": "text"
      },
      "cell_type": "markdown",
      "source": [
        "# Setup local drive"
      ]
    },
    {
      "metadata": {
        "id": "NrTDh_NtQrbW",
        "colab_type": "code",
        "colab": {}
      },
      "cell_type": "code",
      "source": [
        "!pip install -U -q PyDrive\n",
        "from pydrive.auth import GoogleAuth\n",
        "from pydrive.drive import GoogleDrive\n",
        "from google.colab import auth\n",
        "from oauth2client.client import GoogleCredentials\n",
        "\n",
        "auth.authenticate_user()\n",
        "gauth = GoogleAuth()\n",
        "gauth.credentials = GoogleCredentials.get_application_default()\n",
        "drive = GoogleDrive(gauth)\n",
        "\n",
        "file_id = '1XDU6OEibG-koafLubiYdWkTncBkxyEG4'\n",
        "downloaded = drive.CreateFile({'id': file_id})\n",
        "downloaded = drive.CreateFile({'id':'1XDU6OEibG-koafLubiYdWkTncBkxyEG4'}) # replace the id with id of file you want to access\n",
        "downloaded.GetContentFile('fra.txt')  \n",
        "\n",
        "# Read file as panda dataframe\n",
        "# import pandas as pd\n",
        "# xyz = pd.read_csv('xyz.csv')"
      ],
      "execution_count": 0,
      "outputs": []
    },
    {
      "metadata": {
        "id": "JEBW9FFLQSRc",
        "colab_type": "text"
      },
      "cell_type": "markdown",
      "source": [
        "# Setup Keras"
      ]
    },
    {
      "metadata": {
        "id": "u6R1Q6m1Pvn2",
        "colab_type": "code",
        "colab": {
          "base_uri": "https://localhost:8080/",
          "height": 34
        },
        "outputId": "5fca7fc5-04ef-4f35-991d-2ca22ec0f49c"
      },
      "cell_type": "code",
      "source": [
        "from __future__ import print_function\n",
        "\n",
        "from keras.models import Model\n",
        "from keras.layers import Input, LSTM, Dense\n",
        "import numpy as np\n",
        "\n",
        "batch_size = 64  # Batch size for training.\n",
        "epochs = 100  # Number of epochs to train for.\n",
        "latent_dim = 256  # Latent dimensionality of the encoding space.\n",
        "num_samples = 10000  # Number of samples to train on.\n",
        "# Path to the data txt file on disk.\n",
        "data_path = 'fra.txt'"
      ],
      "execution_count": 0,
      "outputs": [
        {
          "output_type": "stream",
          "text": [
            "Using TensorFlow backend.\n"
          ],
          "name": "stderr"
        }
      ]
    },
    {
      "metadata": {
        "id": "pegaaSrtPvoF",
        "colab_type": "text"
      },
      "cell_type": "markdown",
      "source": [
        "# Vectorize the data."
      ]
    },
    {
      "metadata": {
        "id": "ZVXAKJYCPvoJ",
        "colab_type": "code",
        "colab": {}
      },
      "cell_type": "code",
      "source": [
        "input_texts = []\n",
        "target_texts = []\n",
        "input_characters = set()\n",
        "target_characters = set()\n",
        "with open(data_path, 'r', encoding='utf-8') as f:\n",
        "    lines = f.read().split('\\n')\n",
        "for line in lines[: min(num_samples, len(lines) - 1)]:\n",
        "    input_text, target_text = line.split('\\t')\n",
        "    # We use \"tab\" as the \"start sequence\" character\n",
        "    # for the targets, and \"\\n\" as \"end sequence\" character.\n",
        "    target_text = '\\t' + target_text + '\\n'\n",
        "    input_texts.append(input_text)\n",
        "    target_texts.append(target_text)\n",
        "    for char in input_text:\n",
        "        if char not in input_characters:\n",
        "            input_characters.add(char)\n",
        "    for char in target_text:\n",
        "        if char not in target_characters:\n",
        "            target_characters.add(char)\n",
        "\n",
        "input_characters = sorted(list(input_characters))\n",
        "target_characters = sorted(list(target_characters))\n",
        "num_encoder_tokens = len(input_characters)\n",
        "num_decoder_tokens = len(target_characters)\n",
        "max_encoder_seq_length = max([len(txt) for txt in input_texts])\n",
        "max_decoder_seq_length = max([len(txt) for txt in target_texts])"
      ],
      "execution_count": 0,
      "outputs": []
    },
    {
      "metadata": {
        "id": "IeEQPu06PvoU",
        "colab_type": "text"
      },
      "cell_type": "markdown",
      "source": [
        "# Show the data"
      ]
    },
    {
      "metadata": {
        "id": "ZF9sJ4htPvoW",
        "colab_type": "code",
        "colab": {
          "base_uri": "https://localhost:8080/",
          "height": 102
        },
        "outputId": "e928abd5-b9c8-44f4-edc2-7194b941e5dc"
      },
      "cell_type": "code",
      "source": [
        "print('Number of samples:', len(input_texts))\n",
        "print('Number of unique input tokens:', num_encoder_tokens)\n",
        "print('Number of unique output tokens:', num_decoder_tokens)\n",
        "print('Max sequence length for inputs:', max_encoder_seq_length)\n",
        "print('Max sequence length for outputs:', max_decoder_seq_length)"
      ],
      "execution_count": 0,
      "outputs": [
        {
          "output_type": "stream",
          "text": [
            "Number of samples: 10000\n",
            "Number of unique input tokens: 71\n",
            "Number of unique output tokens: 94\n",
            "Max sequence length for inputs: 16\n",
            "Max sequence length for outputs: 59\n"
          ],
          "name": "stdout"
        }
      ]
    },
    {
      "metadata": {
        "id": "zgHeEwXsPvod",
        "colab_type": "code",
        "colab": {}
      },
      "cell_type": "code",
      "source": [
        "input_token_index = dict(\n",
        "    [(char, i) for i, char in enumerate(input_characters)])\n",
        "target_token_index = dict(\n",
        "    [(char, i) for i, char in enumerate(target_characters)])\n",
        "\n",
        "encoder_input_data = np.zeros(\n",
        "    (len(input_texts), max_encoder_seq_length, num_encoder_tokens),\n",
        "    dtype='float32')\n",
        "decoder_input_data = np.zeros(\n",
        "    (len(input_texts), max_decoder_seq_length, num_decoder_tokens),\n",
        "    dtype='float32')\n",
        "decoder_target_data = np.zeros(\n",
        "    (len(input_texts), max_decoder_seq_length, num_decoder_tokens),\n",
        "    dtype='float32')\n",
        "\n",
        "for i, (input_text, target_text) in enumerate(zip(input_texts, target_texts)):\n",
        "    for t, char in enumerate(input_text):\n",
        "        encoder_input_data[i, t, input_token_index[char]] = 1.\n",
        "    for t, char in enumerate(target_text):\n",
        "        # decoder_target_data is ahead of decoder_input_data by one timestep\n",
        "        decoder_input_data[i, t, target_token_index[char]] = 1.\n",
        "        if t > 0:\n",
        "            # decoder_target_data will be ahead by one timestep\n",
        "            # and will not include the start character.\n",
        "            decoder_target_data[i, t - 1, target_token_index[char]] = 1."
      ],
      "execution_count": 0,
      "outputs": []
    },
    {
      "metadata": {
        "id": "sZm0MSa9Pvoo",
        "colab_type": "text"
      },
      "cell_type": "markdown",
      "source": [
        "# Define an input sequence and process it."
      ]
    },
    {
      "metadata": {
        "id": "oHvP7SchPvoo",
        "colab_type": "code",
        "colab": {}
      },
      "cell_type": "code",
      "source": [
        "encoder_inputs = Input(shape=(None, num_encoder_tokens))\n",
        "encoder = LSTM(latent_dim, return_state=True)\n",
        "encoder_outputs, state_h, state_c = encoder(encoder_inputs)\n",
        "# We discard `encoder_outputs` and only keep the states.\n",
        "encoder_states = [state_h, state_c]"
      ],
      "execution_count": 0,
      "outputs": []
    },
    {
      "metadata": {
        "id": "d-7WS5CePvo_",
        "colab_type": "text"
      },
      "cell_type": "markdown",
      "source": [
        "# Set up the decoder, using `encoder_states` as initial state."
      ]
    },
    {
      "metadata": {
        "id": "ruKP6PluPvpA",
        "colab_type": "code",
        "colab": {}
      },
      "cell_type": "code",
      "source": [
        "decoder_inputs = Input(shape=(None, num_decoder_tokens))\n",
        "# We set up our decoder to return full output sequences,\n",
        "# and to return internal states as well. We don't use the\n",
        "# return states in the training model, but we will use them in inference.\n",
        "decoder_lstm = LSTM(latent_dim, return_sequences=True, return_state=True)\n",
        "decoder_outputs, _, _ = decoder_lstm(decoder_inputs,\n",
        "                                     initial_state=encoder_states)\n",
        "decoder_dense = Dense(num_decoder_tokens, activation='softmax')\n",
        "decoder_outputs = decoder_dense(decoder_outputs)"
      ],
      "execution_count": 0,
      "outputs": []
    },
    {
      "metadata": {
        "id": "MMuK_IJgPvpH",
        "colab_type": "text"
      },
      "cell_type": "markdown",
      "source": [
        "# Define the model that will turn"
      ]
    },
    {
      "metadata": {
        "id": "wulThMRMPvpI",
        "colab_type": "code",
        "colab": {
          "base_uri": "https://localhost:8080/",
          "height": 3488
        },
        "outputId": "16e01270-fc55-4e67-c773-4a4eb47a4c11"
      },
      "cell_type": "code",
      "source": [
        "# `encoder_input_data` & `decoder_input_data` into `decoder_target_data`\n",
        "model = Model([encoder_inputs, decoder_inputs], decoder_outputs)\n",
        "\n",
        "# Run training\n",
        "model.compile(optimizer='rmsprop', loss='categorical_crossentropy')\n",
        "model.fit([encoder_input_data, decoder_input_data], decoder_target_data,\n",
        "          batch_size=batch_size,\n",
        "          epochs=epochs,\n",
        "          validation_split=0.2)\n",
        "# Save model\n",
        "model.save('s2s.h5')"
      ],
      "execution_count": 0,
      "outputs": [
        {
          "output_type": "stream",
          "text": [
            "Train on 8000 samples, validate on 2000 samples\n",
            "Epoch 1/100\n",
            "8000/8000 [==============================] - 28s 4ms/step - loss: 0.9274 - val_loss: 0.9880\n",
            "Epoch 2/100\n",
            "8000/8000 [==============================] - 26s 3ms/step - loss: 0.7433 - val_loss: 0.8023\n",
            "Epoch 3/100\n",
            "8000/8000 [==============================] - 26s 3ms/step - loss: 0.6262 - val_loss: 0.7155\n",
            "Epoch 4/100\n",
            "1600/8000 [=====>........................] - ETA: 19s - loss: 0.5821"
          ],
          "name": "stdout"
        },
        {
          "output_type": "stream",
          "text": [
            "8000/8000 [==============================] - 26s 3ms/step - loss: 0.5682 - val_loss: 0.6798\n",
            "Epoch 5/100\n",
            "8000/8000 [==============================] - 26s 3ms/step - loss: 0.5287 - val_loss: 0.6250\n",
            "Epoch 6/100\n",
            "8000/8000 [==============================] - 26s 3ms/step - loss: 0.4956 - val_loss: 0.5930\n",
            "Epoch 7/100\n",
            "6144/8000 [======================>.......] - ETA: 5s - loss: 0.4690"
          ],
          "name": "stdout"
        },
        {
          "output_type": "stream",
          "text": [
            "8000/8000 [==============================] - 26s 3ms/step - loss: 0.4692 - val_loss: 0.5697\n",
            "Epoch 8/100\n",
            "8000/8000 [==============================] - 26s 3ms/step - loss: 0.4472 - val_loss: 0.5552\n",
            "Epoch 9/100\n",
            "8000/8000 [==============================] - 26s 3ms/step - loss: 0.4283 - val_loss: 0.5400\n",
            "Epoch 10/100\n",
            "6848/8000 [========================>.....] - ETA: 3s - loss: 0.4109"
          ],
          "name": "stdout"
        },
        {
          "output_type": "stream",
          "text": [
            "8000/8000 [==============================] - 26s 3ms/step - loss: 0.4108 - val_loss: 0.5252\n",
            "Epoch 11/100\n",
            "8000/8000 [==============================] - 26s 3ms/step - loss: 0.3947 - val_loss: 0.5151\n",
            "Epoch 12/100\n",
            "8000/8000 [==============================] - 26s 3ms/step - loss: 0.3798 - val_loss: 0.5080\n",
            "Epoch 13/100\n",
            "6784/8000 [========================>.....] - ETA: 3s - loss: 0.3659"
          ],
          "name": "stdout"
        },
        {
          "output_type": "stream",
          "text": [
            "8000/8000 [==============================] - 26s 3ms/step - loss: 0.3659 - val_loss: 0.5006\n",
            "Epoch 14/100\n",
            "8000/8000 [==============================] - 26s 3ms/step - loss: 0.3529 - val_loss: 0.4944\n",
            "Epoch 15/100\n",
            "8000/8000 [==============================] - 26s 3ms/step - loss: 0.3405 - val_loss: 0.4859\n",
            "Epoch 16/100\n",
            "6848/8000 [========================>.....] - ETA: 3s - loss: 0.3293"
          ],
          "name": "stdout"
        },
        {
          "output_type": "stream",
          "text": [
            "8000/8000 [==============================] - 26s 3ms/step - loss: 0.3290 - val_loss: 0.4819\n",
            "Epoch 17/100\n",
            "8000/8000 [==============================] - 26s 3ms/step - loss: 0.3179 - val_loss: 0.4768\n",
            "Epoch 18/100\n",
            "8000/8000 [==============================] - 26s 3ms/step - loss: 0.3077 - val_loss: 0.4732\n",
            "Epoch 19/100\n",
            "6784/8000 [========================>.....] - ETA: 3s - loss: 0.2977"
          ],
          "name": "stdout"
        },
        {
          "output_type": "stream",
          "text": [
            "8000/8000 [==============================] - 26s 3ms/step - loss: 0.2983 - val_loss: 0.4707\n",
            "Epoch 20/100\n",
            "8000/8000 [==============================] - 26s 3ms/step - loss: 0.2889 - val_loss: 0.4707\n",
            "Epoch 21/100\n",
            "8000/8000 [==============================] - 26s 3ms/step - loss: 0.2796 - val_loss: 0.4692\n",
            "Epoch 22/100\n",
            "6784/8000 [========================>.....] - ETA: 3s - loss: 0.2714"
          ],
          "name": "stdout"
        },
        {
          "output_type": "stream",
          "text": [
            "8000/8000 [==============================] - 26s 3ms/step - loss: 0.2713 - val_loss: 0.4671\n",
            "Epoch 23/100\n",
            "8000/8000 [==============================] - 26s 3ms/step - loss: 0.2629 - val_loss: 0.4633\n",
            "Epoch 24/100\n",
            "8000/8000 [==============================] - 26s 3ms/step - loss: 0.2549 - val_loss: 0.4701\n",
            "Epoch 25/100\n",
            "6848/8000 [========================>.....] - ETA: 3s - loss: 0.2476"
          ],
          "name": "stdout"
        },
        {
          "output_type": "stream",
          "text": [
            "8000/8000 [==============================] - 26s 3ms/step - loss: 0.2474 - val_loss: 0.4700\n",
            "Epoch 26/100\n",
            "8000/8000 [==============================] - 26s 3ms/step - loss: 0.2403 - val_loss: 0.4692\n",
            "Epoch 27/100\n",
            "8000/8000 [==============================] - 26s 3ms/step - loss: 0.2332 - val_loss: 0.4742\n",
            "Epoch 28/100\n",
            "6912/8000 [========================>.....] - ETA: 3s - loss: 0.2270"
          ],
          "name": "stdout"
        },
        {
          "output_type": "stream",
          "text": [
            "8000/8000 [==============================] - 26s 3ms/step - loss: 0.2267 - val_loss: 0.4801\n",
            "Epoch 29/100\n",
            "8000/8000 [==============================] - 26s 3ms/step - loss: 0.2203 - val_loss: 0.4802\n",
            "Epoch 30/100\n",
            "8000/8000 [==============================] - 26s 3ms/step - loss: 0.2143 - val_loss: 0.4810\n",
            "Epoch 31/100\n",
            "7040/8000 [=========================>....] - ETA: 2s - loss: 0.2075"
          ],
          "name": "stdout"
        },
        {
          "output_type": "stream",
          "text": [
            "8000/8000 [==============================] - 26s 3ms/step - loss: 0.2081 - val_loss: 0.4844\n",
            "Epoch 32/100\n",
            "8000/8000 [==============================] - 26s 3ms/step - loss: 0.2023 - val_loss: 0.4887\n",
            "Epoch 33/100\n",
            "8000/8000 [==============================] - 26s 3ms/step - loss: 0.1969 - val_loss: 0.4910\n",
            "Epoch 34/100\n",
            "6912/8000 [========================>.....] - ETA: 3s - loss: 0.1911"
          ],
          "name": "stdout"
        },
        {
          "output_type": "stream",
          "text": [
            "8000/8000 [==============================] - 26s 3ms/step - loss: 0.1920 - val_loss: 0.4925\n",
            "Epoch 35/100\n",
            "8000/8000 [==============================] - 26s 3ms/step - loss: 0.1867 - val_loss: 0.5022\n",
            "Epoch 36/100\n",
            "8000/8000 [==============================] - 26s 3ms/step - loss: 0.1822 - val_loss: 0.5024\n",
            "Epoch 37/100\n",
            "6912/8000 [========================>.....] - ETA: 3s - loss: 0.1767"
          ],
          "name": "stdout"
        },
        {
          "output_type": "stream",
          "text": [
            "8000/8000 [==============================] - 26s 3ms/step - loss: 0.1772 - val_loss: 0.5068\n",
            "Epoch 38/100\n",
            "8000/8000 [==============================] - 26s 3ms/step - loss: 0.1728 - val_loss: 0.5100\n",
            "Epoch 39/100\n",
            "8000/8000 [==============================] - 26s 3ms/step - loss: 0.1686 - val_loss: 0.5130\n",
            "Epoch 40/100\n",
            "6912/8000 [========================>.....] - ETA: 3s - loss: 0.1647"
          ],
          "name": "stdout"
        },
        {
          "output_type": "stream",
          "text": [
            "8000/8000 [==============================] - 26s 3ms/step - loss: 0.1644 - val_loss: 0.5261\n",
            "Epoch 41/100\n",
            "8000/8000 [==============================] - 26s 3ms/step - loss: 0.1603 - val_loss: 0.5206\n",
            "Epoch 42/100\n",
            "8000/8000 [==============================] - 26s 3ms/step - loss: 0.1567 - val_loss: 0.5249\n",
            "Epoch 43/100\n",
            "6336/8000 [======================>.......] - ETA: 5s - loss: 0.1522"
          ],
          "name": "stdout"
        },
        {
          "output_type": "stream",
          "text": [
            "8000/8000 [==============================] - 27s 3ms/step - loss: 0.1528 - val_loss: 0.5348\n",
            "Epoch 44/100\n",
            "8000/8000 [==============================] - 26s 3ms/step - loss: 0.1493 - val_loss: 0.5378\n",
            "Epoch 45/100\n",
            "8000/8000 [==============================] - 26s 3ms/step - loss: 0.1458 - val_loss: 0.5445\n",
            "Epoch 46/100\n",
            "6784/8000 [========================>.....] - ETA: 3s - loss: 0.1413"
          ],
          "name": "stdout"
        },
        {
          "output_type": "stream",
          "text": [
            "8000/8000 [==============================] - 26s 3ms/step - loss: 0.1425 - val_loss: 0.5494\n",
            "Epoch 47/100\n",
            "8000/8000 [==============================] - 27s 3ms/step - loss: 0.1394 - val_loss: 0.5551\n",
            "Epoch 48/100\n",
            "8000/8000 [==============================] - 26s 3ms/step - loss: 0.1365 - val_loss: 0.5570\n",
            "Epoch 49/100\n",
            "6528/8000 [=======================>......] - ETA: 4s - loss: 0.1327"
          ],
          "name": "stdout"
        },
        {
          "output_type": "stream",
          "text": [
            "8000/8000 [==============================] - 26s 3ms/step - loss: 0.1334 - val_loss: 0.5654\n",
            "Epoch 50/100\n",
            "8000/8000 [==============================] - 26s 3ms/step - loss: 0.1305 - val_loss: 0.5670\n",
            "Epoch 51/100\n",
            "8000/8000 [==============================] - 26s 3ms/step - loss: 0.1278 - val_loss: 0.5703\n",
            "Epoch 52/100\n",
            "6912/8000 [========================>.....] - ETA: 3s - loss: 0.1250"
          ],
          "name": "stdout"
        },
        {
          "output_type": "stream",
          "text": [
            "8000/8000 [==============================] - 26s 3ms/step - loss: 0.1251 - val_loss: 0.5741\n",
            "Epoch 53/100\n",
            "8000/8000 [==============================] - 26s 3ms/step - loss: 0.1226 - val_loss: 0.5850\n",
            "Epoch 54/100\n",
            "8000/8000 [==============================] - 26s 3ms/step - loss: 0.1200 - val_loss: 0.5873\n",
            "Epoch 55/100\n",
            "6656/8000 [=======================>......] - ETA: 4s - loss: 0.1172"
          ],
          "name": "stdout"
        },
        {
          "output_type": "stream",
          "text": [
            "8000/8000 [==============================] - 26s 3ms/step - loss: 0.1179 - val_loss: 0.5913\n",
            "Epoch 56/100\n",
            "8000/8000 [==============================] - 26s 3ms/step - loss: 0.1154 - val_loss: 0.6007\n",
            "Epoch 57/100\n",
            "8000/8000 [==============================] - 26s 3ms/step - loss: 0.1133 - val_loss: 0.5945\n",
            "Epoch 58/100\n",
            "6656/8000 [=======================>......] - ETA: 4s - loss: 0.1098"
          ],
          "name": "stdout"
        },
        {
          "output_type": "stream",
          "text": [
            "8000/8000 [==============================] - 27s 3ms/step - loss: 0.1108 - val_loss: 0.6048\n",
            "Epoch 59/100\n",
            "8000/8000 [==============================] - 27s 3ms/step - loss: 0.1089 - val_loss: 0.6142\n",
            "Epoch 60/100\n",
            "8000/8000 [==============================] - 26s 3ms/step - loss: 0.1069 - val_loss: 0.6184\n",
            "Epoch 61/100\n",
            "6848/8000 [========================>.....] - ETA: 3s - loss: 0.1039"
          ],
          "name": "stdout"
        },
        {
          "output_type": "stream",
          "text": [
            "8000/8000 [==============================] - 26s 3ms/step - loss: 0.1047 - val_loss: 0.6200\n",
            "Epoch 62/100\n",
            "8000/8000 [==============================] - 26s 3ms/step - loss: 0.1027 - val_loss: 0.6280\n",
            "Epoch 63/100\n",
            "8000/8000 [==============================] - 26s 3ms/step - loss: 0.1009 - val_loss: 0.6314\n",
            "Epoch 64/100\n",
            "6720/8000 [========================>.....] - ETA: 3s - loss: 0.0986"
          ],
          "name": "stdout"
        },
        {
          "output_type": "stream",
          "text": [
            "8000/8000 [==============================] - 26s 3ms/step - loss: 0.0992 - val_loss: 0.6346\n",
            "Epoch 65/100\n",
            "8000/8000 [==============================] - 26s 3ms/step - loss: 0.0974 - val_loss: 0.6397\n",
            "Epoch 66/100\n",
            "8000/8000 [==============================] - 26s 3ms/step - loss: 0.0956 - val_loss: 0.6432\n",
            "Epoch 67/100\n",
            "6784/8000 [========================>.....] - ETA: 3s - loss: 0.0935"
          ],
          "name": "stdout"
        },
        {
          "output_type": "stream",
          "text": [
            "8000/8000 [==============================] - 26s 3ms/step - loss: 0.0940 - val_loss: 0.6463\n",
            "Epoch 68/100\n",
            "8000/8000 [==============================] - 26s 3ms/step - loss: 0.0927 - val_loss: 0.6515\n",
            "Epoch 69/100\n",
            "8000/8000 [==============================] - 26s 3ms/step - loss: 0.0906 - val_loss: 0.6559\n",
            "Epoch 70/100\n",
            "6912/8000 [========================>.....] - ETA: 3s - loss: 0.0885"
          ],
          "name": "stdout"
        },
        {
          "output_type": "stream",
          "text": [
            "8000/8000 [==============================] - 26s 3ms/step - loss: 0.0893 - val_loss: 0.6599\n",
            "Epoch 71/100\n",
            "8000/8000 [==============================] - 26s 3ms/step - loss: 0.0878 - val_loss: 0.6680\n",
            "Epoch 72/100\n",
            "8000/8000 [==============================] - 26s 3ms/step - loss: 0.0862 - val_loss: 0.6690\n",
            "Epoch 73/100\n",
            "6912/8000 [========================>.....] - ETA: 3s - loss: 0.0841"
          ],
          "name": "stdout"
        },
        {
          "output_type": "stream",
          "text": [
            "8000/8000 [==============================] - 26s 3ms/step - loss: 0.0847 - val_loss: 0.6761\n",
            "Epoch 74/100\n",
            "8000/8000 [==============================] - 26s 3ms/step - loss: 0.0834 - val_loss: 0.6812\n",
            "Epoch 75/100\n",
            "8000/8000 [==============================] - 26s 3ms/step - loss: 0.0821 - val_loss: 0.6765\n",
            "Epoch 76/100\n",
            "6912/8000 [========================>.....] - ETA: 3s - loss: 0.0799"
          ],
          "name": "stdout"
        },
        {
          "output_type": "stream",
          "text": [
            "8000/8000 [==============================] - 26s 3ms/step - loss: 0.0808 - val_loss: 0.6877\n",
            "Epoch 77/100\n",
            "8000/8000 [==============================] - 26s 3ms/step - loss: 0.0794 - val_loss: 0.6935\n",
            "Epoch 78/100\n",
            "8000/8000 [==============================] - 26s 3ms/step - loss: 0.0782 - val_loss: 0.6942\n",
            "Epoch 79/100\n",
            "7040/8000 [=========================>....] - ETA: 2s - loss: 0.0770"
          ],
          "name": "stdout"
        },
        {
          "output_type": "stream",
          "text": [
            "8000/8000 [==============================] - 26s 3ms/step - loss: 0.0773 - val_loss: 0.7066\n",
            "Epoch 80/100\n",
            "8000/8000 [==============================] - 26s 3ms/step - loss: 0.0757 - val_loss: 0.6960\n",
            "Epoch 81/100\n",
            "8000/8000 [==============================] - 26s 3ms/step - loss: 0.0747 - val_loss: 0.7028\n",
            "Epoch 82/100\n",
            "6656/8000 [=======================>......] - ETA: 4s - loss: 0.0729"
          ],
          "name": "stdout"
        },
        {
          "output_type": "stream",
          "text": [
            "8000/8000 [==============================] - 26s 3ms/step - loss: 0.0737 - val_loss: 0.7146\n",
            "Epoch 83/100\n",
            "8000/8000 [==============================] - 26s 3ms/step - loss: 0.0725 - val_loss: 0.7175\n",
            "Epoch 84/100\n",
            "8000/8000 [==============================] - 26s 3ms/step - loss: 0.0708 - val_loss: 0.7136\n",
            "Epoch 85/100\n",
            "6912/8000 [========================>.....] - ETA: 3s - loss: 0.0703"
          ],
          "name": "stdout"
        },
        {
          "output_type": "stream",
          "text": [
            "8000/8000 [==============================] - 26s 3ms/step - loss: 0.0707 - val_loss: 0.7206\n",
            "Epoch 86/100\n",
            "8000/8000 [==============================] - 26s 3ms/step - loss: 0.0691 - val_loss: 0.7292\n",
            "Epoch 87/100\n",
            "8000/8000 [==============================] - 26s 3ms/step - loss: 0.0682 - val_loss: 0.7374\n",
            "Epoch 88/100\n",
            "6720/8000 [========================>.....] - ETA: 3s - loss: 0.0664"
          ],
          "name": "stdout"
        },
        {
          "output_type": "stream",
          "text": [
            "8000/8000 [==============================] - 26s 3ms/step - loss: 0.0674 - val_loss: 0.7330\n",
            "Epoch 89/100\n",
            "8000/8000 [==============================] - 26s 3ms/step - loss: 0.0664 - val_loss: 0.7371\n",
            "Epoch 90/100\n",
            "8000/8000 [==============================] - 26s 3ms/step - loss: 0.0655 - val_loss: 0.7363\n",
            "Epoch 91/100\n",
            "6784/8000 [========================>.....] - ETA: 3s - loss: 0.0637\b\b\b\b\b\b\b\b\b\b\b\b\b\b\b\b\b\b\b\b\b\b\b\b\b\b\b\b\b\b\b\b\b\b\b\b\b\b\b\b\b\b\b\b\b\b\b\b\b\b\b\b\b\b\b\b\b\b\b\b\b\b\b\b\b\b\b"
          ],
          "name": "stdout"
        },
        {
          "output_type": "stream",
          "text": [
            "8000/8000 [==============================] - 26s 3ms/step - loss: 0.0642 - val_loss: 0.7441\n",
            "Epoch 92/100\n",
            "8000/8000 [==============================] - 26s 3ms/step - loss: 0.0637 - val_loss: 0.7489\n",
            "Epoch 93/100\n",
            "8000/8000 [==============================] - 26s 3ms/step - loss: 0.0626 - val_loss: 0.7448\n",
            "Epoch 94/100\n",
            "6912/8000 [========================>.....] - ETA: 3s - loss: 0.0612"
          ],
          "name": "stdout"
        },
        {
          "output_type": "stream",
          "text": [
            "8000/8000 [==============================] - 26s 3ms/step - loss: 0.0619 - val_loss: 0.7521\n",
            "Epoch 95/100\n",
            "8000/8000 [==============================] - 26s 3ms/step - loss: 0.0611 - val_loss: 0.7528\n",
            "Epoch 96/100\n",
            "8000/8000 [==============================] - 26s 3ms/step - loss: 0.0601 - val_loss: 0.7662\n",
            "Epoch 97/100\n",
            "6784/8000 [========================>.....] - ETA: 3s - loss: 0.0592"
          ],
          "name": "stdout"
        },
        {
          "output_type": "stream",
          "text": [
            "8000/8000 [==============================] - 26s 3ms/step - loss: 0.0596 - val_loss: 0.7641\n",
            "Epoch 98/100\n",
            "8000/8000 [==============================] - 26s 3ms/step - loss: 0.0587 - val_loss: 0.7625\n",
            "Epoch 99/100\n",
            "8000/8000 [==============================] - 27s 3ms/step - loss: 0.0576 - val_loss: 0.7700\n",
            "Epoch 100/100\n",
            "6784/8000 [========================>.....] - ETA: 3s - loss: 0.0566"
          ],
          "name": "stdout"
        },
        {
          "output_type": "stream",
          "text": [
            "8000/8000 [==============================] - 26s 3ms/step - loss: 0.0572 - val_loss: 0.7671\n"
          ],
          "name": "stdout"
        },
        {
          "output_type": "stream",
          "text": [
            "/usr/local/lib/python3.6/dist-packages/keras/engine/topology.py:2379: UserWarning: Layer lstm_2 was passed non-serializable keyword arguments: {'initial_state': [<tf.Tensor 'lstm_1/while/Exit_2:0' shape=(?, 256) dtype=float32>, <tf.Tensor 'lstm_1/while/Exit_3:0' shape=(?, 256) dtype=float32>]}. They will not be included in the serialized model (and thus will be missing at deserialization time).\n",
            "  str(node.arguments) + '. They will not be included '\n"
          ],
          "name": "stderr"
        }
      ]
    },
    {
      "metadata": {
        "id": "Hgr2ydtcPvpj",
        "colab_type": "code",
        "colab": {}
      },
      "cell_type": "code",
      "source": [
        "# Next: inference mode (sampling).\n",
        "# Here's the drill:\n",
        "# 1) encode input and retrieve initial decoder state\n",
        "# 2) run one step of decoder with this initial state\n",
        "# and a \"start of sequence\" token as target.\n",
        "# Output will be the next target token\n",
        "# 3) Repeat with the current target token and current states"
      ],
      "execution_count": 0,
      "outputs": []
    },
    {
      "metadata": {
        "id": "KU6BJljyPvpw",
        "colab_type": "text"
      },
      "cell_type": "markdown",
      "source": [
        "# Define sampling models"
      ]
    },
    {
      "metadata": {
        "id": "eu62ClWAPvp1",
        "colab_type": "code",
        "colab": {}
      },
      "cell_type": "code",
      "source": [
        "encoder_model = Model(encoder_inputs, encoder_states)\n",
        "\n",
        "decoder_state_input_h = Input(shape=(latent_dim,))\n",
        "decoder_state_input_c = Input(shape=(latent_dim,))\n",
        "decoder_states_inputs = [decoder_state_input_h, decoder_state_input_c]\n",
        "decoder_outputs, state_h, state_c = decoder_lstm(\n",
        "    decoder_inputs, initial_state=decoder_states_inputs)\n",
        "decoder_states = [state_h, state_c]\n",
        "decoder_outputs = decoder_dense(decoder_outputs)\n",
        "decoder_model = Model(\n",
        "    [decoder_inputs] + decoder_states_inputs,\n",
        "    [decoder_outputs] + decoder_states)\n",
        "\n",
        "# Reverse-lookup token index to decode sequences back to\n",
        "# something readable.\n",
        "reverse_input_char_index = dict(\n",
        "    (i, char) for char, i in input_token_index.items())\n",
        "reverse_target_char_index = dict(\n",
        "    (i, char) for char, i in target_token_index.items())"
      ],
      "execution_count": 0,
      "outputs": []
    },
    {
      "metadata": {
        "id": "3EaJtE_uPvqA",
        "colab_type": "text"
      },
      "cell_type": "markdown",
      "source": [
        "# decode sequence"
      ]
    },
    {
      "metadata": {
        "id": "A7I6ShimPvqC",
        "colab_type": "code",
        "colab": {}
      },
      "cell_type": "code",
      "source": [
        "def decode_sequence(input_seq):\n",
        "    # Encode the input as state vectors.\n",
        "    states_value = encoder_model.predict(input_seq)\n",
        "\n",
        "    # Generate empty target sequence of length 1.\n",
        "    target_seq = np.zeros((1, 1, num_decoder_tokens))\n",
        "    # Populate the first character of target sequence with the start character.\n",
        "    target_seq[0, 0, target_token_index['\\t']] = 1.\n",
        "\n",
        "    # Sampling loop for a batch of sequences\n",
        "    # (to simplify, here we assume a batch of size 1).\n",
        "    stop_condition = False\n",
        "    decoded_sentence = ''\n",
        "    while not stop_condition:\n",
        "        output_tokens, h, c = decoder_model.predict(\n",
        "            [target_seq] + states_value)\n",
        "\n",
        "        # Sample a token\n",
        "        sampled_token_index = np.argmax(output_tokens[0, -1, :])\n",
        "        sampled_char = reverse_target_char_index[sampled_token_index]\n",
        "        decoded_sentence += sampled_char\n",
        "\n",
        "        # Exit condition: either hit max length\n",
        "        # or find stop character.\n",
        "        if (sampled_char == '\\n' or\n",
        "           len(decoded_sentence) > max_decoder_seq_length):\n",
        "            stop_condition = True\n",
        "\n",
        "        # Update the target sequence (of length 1).\n",
        "        target_seq = np.zeros((1, 1, num_decoder_tokens))\n",
        "        target_seq[0, 0, sampled_token_index] = 1.\n",
        "\n",
        "        # Update states\n",
        "        states_value = [h, c]\n",
        "\n",
        "    return decoded_sentence"
      ],
      "execution_count": 0,
      "outputs": []
    },
    {
      "metadata": {
        "id": "aH3XQBTnPvqJ",
        "colab_type": "text"
      },
      "cell_type": "markdown",
      "source": [
        "# Output"
      ]
    },
    {
      "metadata": {
        "id": "A15VPLIaPvqL",
        "colab_type": "code",
        "colab": {
          "base_uri": "https://localhost:8080/",
          "height": 6817
        },
        "outputId": "983f4fe0-37f9-4911-a90c-4d21ba8ac8ec"
      },
      "cell_type": "code",
      "source": [
        "for seq_index in range(100):\n",
        "    # Take one sequence (part of the training set)\n",
        "    # for trying out decoding.\n",
        "    input_seq = encoder_input_data[seq_index: seq_index + 1]\n",
        "    decoded_sentence = decode_sequence(input_seq)\n",
        "    print('-')\n",
        "    print('Input sentence:', input_texts[seq_index])\n",
        "    print('Decoded sentence:', decoded_sentence)"
      ],
      "execution_count": 0,
      "outputs": [
        {
          "output_type": "stream",
          "text": [
            "-\n",
            "Input sentence: Go.\n",
            "Decoded sentence: Va !\n",
            "\n",
            "-\n",
            "Input sentence: Run!\n",
            "Decoded sentence: Cours !\n",
            "\n",
            "-\n",
            "Input sentence: Run!\n",
            "Decoded sentence: Cours !\n",
            "\n",
            "-\n",
            "Input sentence: Fire!\n",
            "Decoded sentence: Au feu !\n",
            "\n",
            "-\n",
            "Input sentence: Help!\n",
            "Decoded sentence: À l'aide !\n",
            "\n",
            "-\n",
            "Input sentence: Jump.\n",
            "Decoded sentence: Suite-le.\n",
            "\n",
            "-\n",
            "Input sentence: Stop!\n",
            "Decoded sentence: Arrête-toi !\n",
            "\n",
            "-\n",
            "Input sentence: Stop!\n",
            "Decoded sentence: Arrête-toi !\n",
            "\n",
            "-\n",
            "Input sentence: Stop!\n",
            "Decoded sentence: Arrête-toi !\n",
            "\n",
            "-\n",
            "Input sentence: Wait!\n",
            "Decoded sentence: Attends !\n",
            "\n",
            "-\n",
            "Input sentence: Wait!\n",
            "Decoded sentence: Attends !\n",
            "\n",
            "-\n",
            "Input sentence: Go on.\n",
            "Decoded sentence: Continuez.\n",
            "\n",
            "-\n",
            "Input sentence: Go on.\n",
            "Decoded sentence: Continuez.\n",
            "\n",
            "-\n",
            "Input sentence: Go on.\n",
            "Decoded sentence: Continuez.\n",
            "\n",
            "-\n",
            "Input sentence: I see.\n",
            "Decoded sentence: Je comprends.\n",
            "\n",
            "-\n",
            "Input sentence: I try.\n",
            "Decoded sentence: J'essaye.\n",
            "\n",
            "-\n",
            "Input sentence: I won!\n",
            "Decoded sentence: Je l'ai emporté !\n",
            "\n",
            "-\n",
            "Input sentence: I won!\n",
            "Decoded sentence: Je l'ai emporté !\n",
            "\n",
            "-\n",
            "Input sentence: Oh no!\n",
            "Decoded sentence: Oh non !\n",
            "\n",
            "-\n",
            "Input sentence: Attack!\n",
            "Decoded sentence: Attaque !\n",
            "\n",
            "-\n",
            "Input sentence: Attack!\n",
            "Decoded sentence: Attaque !\n",
            "\n",
            "-\n",
            "Input sentence: Cheers!\n",
            "Decoded sentence: Merci !\n",
            "\n",
            "-\n",
            "Input sentence: Cheers!\n",
            "Decoded sentence: Merci !\n",
            "\n",
            "-\n",
            "Input sentence: Cheers!\n",
            "Decoded sentence: Merci !\n",
            "\n",
            "-\n",
            "Input sentence: Cheers!\n",
            "Decoded sentence: Merci !\n",
            "\n",
            "-\n",
            "Input sentence: Get up.\n",
            "Decoded sentence: Lève-toi.\n",
            "\n",
            "-\n",
            "Input sentence: Go now.\n",
            "Decoded sentence: Vas-y maintenant.\n",
            "\n",
            "-\n",
            "Input sentence: Go now.\n",
            "Decoded sentence: Vas-y maintenant.\n",
            "\n",
            "-\n",
            "Input sentence: Go now.\n",
            "Decoded sentence: Vas-y maintenant.\n",
            "\n",
            "-\n",
            "Input sentence: Got it!\n",
            "Decoded sentence: Compris !\n",
            "\n",
            "-\n",
            "Input sentence: Got it!\n",
            "Decoded sentence: Compris !\n",
            "\n",
            "-\n",
            "Input sentence: Got it?\n",
            "Decoded sentence: Compris ?\n",
            "\n",
            "-\n",
            "Input sentence: Got it?\n",
            "Decoded sentence: Compris ?\n",
            "\n",
            "-\n",
            "Input sentence: Got it?\n",
            "Decoded sentence: Compris ?\n",
            "\n",
            "-\n",
            "Input sentence: Hop in.\n",
            "Decoded sentence: Monte.\n",
            "\n",
            "-\n",
            "Input sentence: Hop in.\n",
            "Decoded sentence: Monte.\n",
            "\n",
            "-\n",
            "Input sentence: Hug me.\n",
            "Decoded sentence: Serre-moi dans tes bras !\n",
            "\n",
            "-\n",
            "Input sentence: Hug me.\n",
            "Decoded sentence: Serre-moi dans tes bras !\n",
            "\n",
            "-\n",
            "Input sentence: I fell.\n",
            "Decoded sentence: Je suis tombé.\n",
            "\n",
            "-\n",
            "Input sentence: I fell.\n",
            "Decoded sentence: Je suis tombé.\n",
            "\n",
            "-\n",
            "Input sentence: I know.\n",
            "Decoded sentence: Je sais.\n",
            "\n",
            "-\n",
            "Input sentence: I left.\n",
            "Decoded sentence: Je suis parti.\n",
            "\n",
            "-\n",
            "Input sentence: I left.\n",
            "Decoded sentence: Je suis parti.\n",
            "\n",
            "-\n",
            "Input sentence: I lost.\n",
            "Decoded sentence: J'ai perdu.\n",
            "\n",
            "-\n",
            "Input sentence: I'm 19.\n",
            "Decoded sentence: J'ai excusé.\n",
            "\n",
            "-\n",
            "Input sentence: I'm OK.\n",
            "Decoded sentence: Je suis faible.\n",
            "\n",
            "-\n",
            "Input sentence: I'm OK.\n",
            "Decoded sentence: Je suis faible.\n",
            "\n",
            "-\n",
            "Input sentence: Listen.\n",
            "Decoded sentence: Écoutez !\n",
            "\n",
            "-\n",
            "Input sentence: No way!\n",
            "Decoded sentence: C'est exclu !\n",
            "\n",
            "-\n",
            "Input sentence: No way!\n",
            "Decoded sentence: C'est exclu !\n",
            "\n",
            "-\n",
            "Input sentence: No way!\n",
            "Decoded sentence: C'est exclu !\n",
            "\n",
            "-\n",
            "Input sentence: No way!\n",
            "Decoded sentence: C'est exclu !\n",
            "\n",
            "-\n",
            "Input sentence: No way!\n",
            "Decoded sentence: C'est exclu !\n",
            "\n",
            "-\n",
            "Input sentence: No way!\n",
            "Decoded sentence: C'est exclu !\n",
            "\n",
            "-\n",
            "Input sentence: No way!\n",
            "Decoded sentence: C'est exclu !\n",
            "\n",
            "-\n",
            "Input sentence: No way!\n",
            "Decoded sentence: C'est exclu !\n",
            "\n",
            "-\n",
            "Input sentence: No way!\n",
            "Decoded sentence: C'est exclu !\n",
            "\n",
            "-\n",
            "Input sentence: Really?\n",
            "Decoded sentence: Vraiment ?\n",
            "\n",
            "-\n",
            "Input sentence: Really?\n",
            "Decoded sentence: Vraiment ?\n",
            "\n",
            "-\n",
            "Input sentence: Really?\n",
            "Decoded sentence: Vraiment ?\n",
            "\n",
            "-\n",
            "Input sentence: Thanks.\n",
            "Decoded sentence: Merci !\n",
            "\n",
            "-\n",
            "Input sentence: We try.\n",
            "Decoded sentence: On essaye.\n",
            "\n",
            "-\n",
            "Input sentence: We won.\n",
            "Decoded sentence: Nous l'avons emporté.\n",
            "\n",
            "-\n",
            "Input sentence: We won.\n",
            "Decoded sentence: Nous l'avons emporté.\n",
            "\n",
            "-\n",
            "Input sentence: We won.\n",
            "Decoded sentence: Nous l'avons emporté.\n",
            "\n",
            "-\n",
            "Input sentence: We won.\n",
            "Decoded sentence: Nous l'avons emporté.\n",
            "\n",
            "-\n",
            "Input sentence: Ask Tom.\n",
            "Decoded sentence: Demande à Tom.\n",
            "\n",
            "-\n",
            "Input sentence: Awesome!\n",
            "Decoded sentence: Dévantez une menter.\n",
            "\n",
            "-\n",
            "Input sentence: Be calm.\n",
            "Decoded sentence: Soyez calme !\n",
            "\n",
            "-\n",
            "Input sentence: Be calm.\n",
            "Decoded sentence: Soyez calme !\n",
            "\n",
            "-\n",
            "Input sentence: Be calm.\n",
            "Decoded sentence: Soyez calme !\n",
            "\n",
            "-\n",
            "Input sentence: Be cool.\n",
            "Decoded sentence: Sois détendu !\n",
            "\n",
            "-\n",
            "Input sentence: Be fair.\n",
            "Decoded sentence: Soyez équitables !\n",
            "\n",
            "-\n",
            "Input sentence: Be fair.\n",
            "Decoded sentence: Soyez équitables !\n",
            "\n",
            "-\n",
            "Input sentence: Be fair.\n",
            "Decoded sentence: Soyez équitables !\n",
            "\n",
            "-\n",
            "Input sentence: Be fair.\n",
            "Decoded sentence: Soyez équitables !\n",
            "\n",
            "-\n",
            "Input sentence: Be fair.\n",
            "Decoded sentence: Soyez équitables !\n",
            "\n",
            "-\n",
            "Input sentence: Be fair.\n",
            "Decoded sentence: Soyez équitables !\n",
            "\n",
            "-\n",
            "Input sentence: Be kind.\n",
            "Decoded sentence: Sois gentil.\n",
            "\n",
            "-\n",
            "Input sentence: Be nice.\n",
            "Decoded sentence: Soyez gentille !\n",
            "\n",
            "-\n",
            "Input sentence: Be nice.\n",
            "Decoded sentence: Soyez gentille !\n",
            "\n",
            "-\n",
            "Input sentence: Be nice.\n",
            "Decoded sentence: Soyez gentille !\n",
            "\n",
            "-\n",
            "Input sentence: Be nice.\n",
            "Decoded sentence: Soyez gentille !\n",
            "\n",
            "-\n",
            "Input sentence: Be nice.\n",
            "Decoded sentence: Soyez gentille !\n",
            "\n",
            "-\n",
            "Input sentence: Be nice.\n",
            "Decoded sentence: Soyez gentille !\n",
            "\n",
            "-\n",
            "Input sentence: Beat it.\n",
            "Decoded sentence: Dégage !\n",
            "\n",
            "-\n",
            "Input sentence: Call me.\n",
            "Decoded sentence: Appellez-moi !\n",
            "\n",
            "-\n",
            "Input sentence: Call me.\n",
            "Decoded sentence: Appellez-moi !\n",
            "\n",
            "-\n",
            "Input sentence: Call us.\n",
            "Decoded sentence: Appelez Tom.\n",
            "\n",
            "-\n",
            "Input sentence: Call us.\n",
            "Decoded sentence: Appelez Tom.\n",
            "\n",
            "-\n",
            "Input sentence: Come in.\n",
            "Decoded sentence: Entre.\n",
            "\n",
            "-\n",
            "Input sentence: Come in.\n",
            "Decoded sentence: Entre.\n",
            "\n",
            "-\n",
            "Input sentence: Come in.\n",
            "Decoded sentence: Entre.\n",
            "\n",
            "-\n",
            "Input sentence: Come in.\n",
            "Decoded sentence: Entre.\n",
            "\n",
            "-\n",
            "Input sentence: Come on!\n",
            "Decoded sentence: Allez !\n",
            "\n",
            "-\n",
            "Input sentence: Come on.\n",
            "Decoded sentence: Entre !\n",
            "\n",
            "-\n",
            "Input sentence: Come on.\n",
            "Decoded sentence: Entre !\n",
            "\n",
            "-\n",
            "Input sentence: Come on.\n",
            "Decoded sentence: Entre !\n",
            "\n",
            "-\n",
            "Input sentence: Drop it!\n",
            "Decoded sentence: Laissez tomber !\n",
            "\n",
            "-\n",
            "Input sentence: Drop it!\n",
            "Decoded sentence: Laissez tomber !\n",
            "\n"
          ],
          "name": "stdout"
        }
      ]
    },
    {
      "metadata": {
        "id": "4889wxoEgzVe",
        "colab_type": "code",
        "colab": {}
      },
      "cell_type": "code",
      "source": [
        ""
      ],
      "execution_count": 0,
      "outputs": []
    }
  ]
}